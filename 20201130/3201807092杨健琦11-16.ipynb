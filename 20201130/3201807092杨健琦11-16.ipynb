{
 "cells": [
  {
   "cell_type": "code",
   "execution_count": 1,
   "metadata": {},
   "outputs": [
    {
     "name": "stdout",
     "output_type": "stream",
     "text": [
      "Downloading data from https://storage.googleapis.com/tensorflow/tf-keras-datasets/mnist.npz\n",
      "11493376/11490434 [==============================] - 54s 5us/step\n",
      "Model: \"sequential\"\n",
      "_________________________________________________________________\n",
      "Layer (type)                 Output Shape              Param #   \n",
      "=================================================================\n",
      "flatten (Flatten)            (None, 784)               0         \n",
      "_________________________________________________________________\n",
      "dense (Dense)                (None, 128)               100480    \n",
      "_________________________________________________________________\n",
      "dense_1 (Dense)              (None, 128)               16512     \n",
      "_________________________________________________________________\n",
      "dense_2 (Dense)              (None, 10)                1290      \n",
      "=================================================================\n",
      "Total params: 118,282\n",
      "Trainable params: 118,282\n",
      "Non-trainable params: 0\n",
      "_________________________________________________________________\n",
      "Train on 60000 samples\n",
      "Epoch 1/15\n",
      "60000/60000 [==============================] - 3s 56us/sample - loss: 1.6451 - acc: 0.8678\n",
      "Epoch 2/15\n",
      "60000/60000 [==============================] - 3s 49us/sample - loss: 0.3714 - acc: 0.9229\n",
      "Epoch 3/15\n",
      "60000/60000 [==============================] - 3s 44us/sample - loss: 0.2538 - acc: 0.9383\n",
      "Epoch 4/15\n",
      "60000/60000 [==============================] - 3s 44us/sample - loss: 0.1894 - acc: 0.9507\n",
      "Epoch 5/15\n",
      "60000/60000 [==============================] - 3s 44us/sample - loss: 0.1502 - acc: 0.9587\n",
      "Epoch 6/15\n",
      "60000/60000 [==============================] - 3s 45us/sample - loss: 0.1333 - acc: 0.9631\n",
      "Epoch 7/15\n",
      "60000/60000 [==============================] - 3s 44us/sample - loss: 0.1204 - acc: 0.9673\n",
      "Epoch 8/15\n",
      "60000/60000 [==============================] - 3s 44us/sample - loss: 0.1094 - acc: 0.9702\n",
      "Epoch 9/15\n",
      "60000/60000 [==============================] - 3s 44us/sample - loss: 0.1071 - acc: 0.9715\n",
      "Epoch 10/15\n",
      "60000/60000 [==============================] - 3s 44us/sample - loss: 0.0978 - acc: 0.9739\n",
      "Epoch 11/15\n",
      "60000/60000 [==============================] - 3s 44us/sample - loss: 0.0908 - acc: 0.9756\n",
      "Epoch 12/15\n",
      "60000/60000 [==============================] - 3s 44us/sample - loss: 0.0860 - acc: 0.9773\n",
      "Epoch 13/15\n",
      "60000/60000 [==============================] - 3s 46us/sample - loss: 0.0811 - acc: 0.9788\n",
      "Epoch 14/15\n",
      "60000/60000 [==============================] - 3s 44us/sample - loss: 0.0722 - acc: 0.9806\n",
      "Epoch 15/15\n",
      "60000/60000 [==============================] - 3s 44us/sample - loss: 0.0777 - acc: 0.9794\n"
     ]
    },
    {
     "data": {
      "image/png": "[encoded data removed]",
      "text/plain": [
       "<Figure size 432x288 with 1 Axes>"
      ]
     },
     "metadata": {
      "needs_background": "light"
     },
     "output_type": "display_data"
    }
   ],
   "source": [
    "import tensorflow as tf\n",
    "from sklearn.preprocessing import StandardScaler\n",
    "from tensorflow.keras.datasets import mnist\n",
    "import matplotlib.pyplot as plt\n",
    "\n",
    "# 载入数据\n",
    "(Xtrain, Ytrain), (Xtest, Ytest) = mnist.load_data()\n",
    "\n",
    "# 对数据进行标准化处理\n",
    "scaler = StandardScaler()\n",
    "Xtrain_scaled = scaler.fit_transform(Xtrain.reshape(-1, 28 * 28)).reshape(-1, 28, 28)\n",
    "Xtest_scaled = scaler.transform(Xtest.reshape(-1, 28 * 28)).reshape(-1, 28, 28)\n",
    "\n",
    "# (60000, 28, 28)\n",
    "# (10000, 28, 28)\n",
    "# print(Xtrain_scaled.shape)\n",
    "# print(Xtest_scaled.shape)\n",
    "\n",
    "# 建立模型\n",
    "model = tf.keras.Sequential()\n",
    "model.add(tf.keras.layers.Flatten(input_shape=(28, 28)))\n",
    "model.add(tf.keras.layers.Dense(128, activation='relu'))\n",
    "model.add(tf.keras.layers.Dense(128, activation='relu'))\n",
    "model.add(tf.keras.layers.Dense(10, activation='softmax'))\n",
    "\n",
    "model.summary()\n",
    "\n",
    "# 编译模型\n",
    "model.compile(loss=tf.keras.losses.SparseCategoricalCrossentropy(from_logits=False), metrics=['acc'], optimizer='adam')\n",
    "\n",
    "# 训练模型\n",
    "history = model.fit(Xtrain, Ytrain, epochs=15)\n",
    "# dict_keys(['loss', 'acc'])\n",
    "# print(history.history.keys())\n",
    "\n",
    "# print(history.epoch)\n",
    "\n",
    "# 绘制图像，查看loss与acc\n",
    "plt.plot(history.epoch, history.history['loss'], color='red', label='loss')\n",
    "plt.plot(history.epoch, history.history['acc'], color='blue', label='acc')\n",
    "plt.legend()\n",
    "plt.show()"
   ]
  },
  {
   "cell_type": "code",
   "execution_count": null,
   "metadata": {},
   "outputs": [],
   "source": []
  }
 ],
 "metadata": {
  "kernelspec": {
   "display_name": "Python 3",
   "language": "python",
   "name": "python3"
  },
  "language_info": {
   "codemirror_mode": {
    "name": "ipython",
    "version": 3
   },
   "file_extension": ".py",
   "mimetype": "text/x-python",
   "name": "python",
   "nbconvert_exporter": "python",
   "pygments_lexer": "ipython3",
   "version": "3.7.6"
  },
  "toc": {
   "base_numbering": 1,
   "nav_menu": {},
   "number_sections": true,
   "sideBar": true,
   "skip_h1_title": false,
   "title_cell": "Table of Contents",
   "title_sidebar": "Contents",
   "toc_cell": false,
   "toc_position": {},
   "toc_section_display": true,
   "toc_window_display": false
  }
 },
 "nbformat": 4,
 "nbformat_minor": 4
}
