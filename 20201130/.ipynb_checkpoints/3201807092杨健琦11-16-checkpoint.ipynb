{
 "cells": [
  {
   "cell_type": "code",
   "execution_count": null,
   "metadata": {},
   "outputs": [
    {
     "name": "stdout",
     "output_type": "stream",
     "text": [
      "Downloading data from https://storage.googleapis.com/tensorflow/tf-keras-datasets/mnist.npz\n",
      " 9584640/11490434 [========================>.....] - ETA: 6s"
     ]
    }
   ],
   "source": [
    "import tensorflow as tf\n",
    "from sklearn.preprocessing import StandardScaler\n",
    "from tensorflow.keras.datasets import mnist\n",
    "import matplotlib.pyplot as plt\n",
    "\n",
    "# 载入数据\n",
    "(Xtrain, Ytrain), (Xtest, Ytest) = mnist.load_data()\n",
    "\n",
    "# 对数据进行标准化处理\n",
    "scaler = StandardScaler()\n",
    "Xtrain_scaled = scaler.fit_transform(Xtrain.reshape(-1, 28 * 28)).reshape(-1, 28, 28)\n",
    "Xtest_scaled = scaler.transform(Xtest.reshape(-1, 28 * 28)).reshape(-1, 28, 28)\n",
    "\n",
    "# (60000, 28, 28)\n",
    "# (10000, 28, 28)\n",
    "# print(Xtrain_scaled.shape)\n",
    "# print(Xtest_scaled.shape)\n",
    "\n",
    "# 建立模型\n",
    "model = tf.keras.Sequential()\n",
    "model.add(tf.keras.layers.Flatten(input_shape=(28, 28)))\n",
    "model.add(tf.keras.layers.Dense(128, activation='relu'))\n",
    "model.add(tf.keras.layers.Dense(128, activation='relu'))\n",
    "model.add(tf.keras.layers.Dense(10, activation='softmax'))\n",
    "\n",
    "model.summary()\n",
    "\n",
    "# 编译模型\n",
    "model.compile(loss=tf.keras.losses.SparseCategoricalCrossentropy(from_logits=False), metrics=['acc'], optimizer='adam')\n",
    "\n",
    "# 训练模型\n",
    "history = model.fit(Xtrain, Ytrain, epochs=15)\n",
    "# dict_keys(['loss', 'acc'])\n",
    "# print(history.history.keys())\n",
    "\n",
    "# print(history.epoch)\n",
    "\n",
    "# 绘制图像，查看loss与acc\n",
    "plt.plot(history.epoch, history.history['loss'], color='red', label='loss')\n",
    "plt.plot(history.epoch, history.history['acc'], color='blue', label='acc')\n",
    "plt.legend()\n",
    "plt.show()"
   ]
  },
  {
   "cell_type": "code",
   "execution_count": null,
   "metadata": {},
   "outputs": [],
   "source": []
  }
 ],
 "metadata": {
  "kernelspec": {
   "display_name": "Python 3",
   "language": "python",
   "name": "python3"
  },
  "language_info": {
   "codemirror_mode": {
    "name": "ipython",
    "version": 3
   },
   "file_extension": ".py",
   "mimetype": "text/x-python",
   "name": "python",
   "nbconvert_exporter": "python",
   "pygments_lexer": "ipython3",
   "version": "3.7.6"
  },
  "toc": {
   "base_numbering": 1,
   "nav_menu": {},
   "number_sections": true,
   "sideBar": true,
   "skip_h1_title": false,
   "title_cell": "Table of Contents",
   "title_sidebar": "Contents",
   "toc_cell": false,
   "toc_position": {},
   "toc_section_display": true,
   "toc_window_display": false
  }
 },
 "nbformat": 4,
 "nbformat_minor": 4
}
