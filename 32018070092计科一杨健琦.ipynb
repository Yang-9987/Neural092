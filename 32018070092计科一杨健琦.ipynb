{
 "cells": [
  {
   "cell_type": "code",
   "execution_count": 1,
   "metadata": {},
   "outputs": [
    {
     "name": "stdout",
     "output_type": "stream",
     "text": [
      "0.5\n",
      "0.5\n",
      "0.2689414213699951\n"
     ]
    }
   ],
   "source": [
    "import math\n",
    "import numpy as np\n",
    "\n",
    "def sigmoid(z):\n",
    "    return 1/(1+math.exp(-z))\n",
    "print(sigmoid(0))\n",
    "\n",
    "class Perceptor(object):\n",
    "    def __init__(self,w,b):\n",
    "        self.w=w\n",
    "        self.b=b\n",
    "    def __call__(self,x):\n",
    "        return sigmoid(np.dot(x,self.w)+self.b)\n",
    "    \n",
    "p=Perceptor([1,2,3],-4)\n",
    "output=p([1,0,1])\n",
    "print(output)\n",
    "output=p([1,1,0])\n",
    "print(output)"
   ]
  },
  {
   "cell_type": "code",
   "execution_count": 2,
   "metadata": {},
   "outputs": [
    {
     "name": "stdout",
     "output_type": "stream",
     "text": [
      "[[2013.    3.    5. ...  117.  166.  140.]\n",
      " [2013.    3.    5. ...  131.  165.  152.]\n",
      " [2013.    3.    5. ...  141.  173.  128.]\n",
      " ...\n",
      " [2015.   12.   31. ...  157.  199.  149.]\n",
      " [2015.   12.   31. ...  171.  231.  196.]\n",
      " [2015.   12.   31. ...  204.  242.  221.]]\n",
      "0.1723346759802172\n",
      "0.26956610411461784\n",
      "0.24611227247233977\n",
      "0.3119869474328252\n"
     ]
    }
   ],
   "source": [
    "import numpy as np\n",
    "import pandas as pd\n",
    "\n",
    "df = pd.read_csv('BeijingPM20100101_20151231.csv', encoding='UTF-8', usecols=[1, 2, 3, 4, 5, 6, 7, 8])\n",
    "data_arr=np.array(df.dropna(axis = 0))\n",
    "hour_val=np.mean(data_arr[:,5:],axis=1)\n",
    "print(data_arr)\n",
    "\n",
    "n_hours=hour_val.shape[0]\n",
    "\n",
    "# heavy\n",
    "n_heavy_hours=hour_val[hour_val>150].shape[0]\n",
    "print(n_heavy_hours/n_hours)\n",
    "# medium\n",
    "n_medium_hours=hour_val[(hour_val>75) & (hour_val<=150)].shape[0]\n",
    "print(n_medium_hours/n_hours)\n",
    "# light\n",
    "n_light_hours = hour_val[(hour_val > 35) & (hour_val <= 75)].shape[0]\n",
    "print(n_light_hours/n_hours)\n",
    "# good\n",
    "n_good_hours = hour_val[hour_val <= 35].shape[0]\n",
    "print(n_good_hours/n_hours)\n",
    "\n",
    "\n"
   ]
  },
  {
   "cell_type": "code",
   "execution_count": 7,
   "metadata": {},
   "outputs": [
    {
     "name": "stdout",
     "output_type": "stream",
     "text": [
      "[2013. 2014. 2015.]\n",
      "----------2013----------\n",
      "[117.99354838709678, 128.4725806451613, 116.1774193548387]\n",
      "[64.298937784522, 63.165402124430955, 56.88770864946889]\n",
      "[91.35816618911174, 101.55014326647564, 77.11174785100286]\n",
      "[110.01160092807424, 119.17169373549883, 108.27146171693735]\n",
      "[72.19110378912686, 85.35090609555189, 74.67051070840198]\n",
      "[63.986301369863014, 69.77168949771689, 64.64687975646879]\n",
      "[83.79607250755286, 82.89577039274924, 80.97129909365559]\n",
      "[102.78525641025641, 101.52403846153847, 94.6923076923077]\n",
      "[83.16338028169014, 84.2338028169014, 83.55211267605634]\n",
      "[87.7453505007153, 92.02718168812589, 89.99570815450643]\n",
      "----------2014----------\n",
      "[106.0098730606488, 103.33004231311706, 107.71086036671367]\n",
      "[143.07119741100323, 138.86893203883494, 144.03074433656957]\n",
      "[98.71291208791209, 100.60027472527473, 99.53846153846153]\n",
      "[89.04088586030664, 95.57921635434413, 86.31856899488926]\n",
      "[63.061654135338344, 58.78195488721804, 63.28270676691729]\n",
      "[57.82436260623229, 63.53541076487252, 56.922096317280456]\n",
      "[100.77745241581259, 95.69399707174232, 86.2298682284041]\n",
      "[69.81568088033012, 70.18019257221458, 61.01925722145805]\n",
      "[68.4978601997147, 72.2681883024251, 64.70613409415121]\n",
      "[112.732421875, 145.4609375, 128.357421875]\n",
      "[77.97209985315712, 119.25991189427313, 105.65345080763583]\n",
      "[52.038904899135446, 78.89625360230548, 70.8328530259366]\n",
      "----------2015----------\n",
      "[103.13283582089552, 123.28358208955224, 109.27313432835821]\n",
      "[112.39593908629442, 112.26395939086295, 104.92724196277496]\n",
      "[95.56158357771261, 103.53372434017595, 95.66715542521995]\n",
      "[74.3621533442088, 83.15497553017944, 73.81892332789559]\n",
      "[60.36437908496732, 66.66666666666667, 57.8562091503268]\n",
      "[66.24525547445255, 56.07883211678832, 63.972262773722626]\n",
      "[70.40963855421687, 60.75043029259897, 56.20826161790017]\n",
      "[67.28571428571429, 65.98333333333333, 57.96666666666667]\n",
      "[61.391304347826086, 59.17391304347826, 59.08695652173913]\n",
      "[60.142857142857146, 56.142857142857146, 59.42857142857143]\n",
      "[71.56363636363636, 75.21818181818182, 73.34545454545454]\n",
      "[177.84429065743944, 184.83737024221455, 170.280276816609]\n"
     ]
    }
   ],
   "source": [
    "years=np.unique(data_arr[:,0])\n",
    "print(years)\n",
    "for year in years:\n",
    "    # 获取当前年份数据\n",
    "    year_data=data_arr[data_arr[:,0]==year]  \n",
    "     # 获取数据的月份\n",
    "    month_list=np.unique(year_data[:,1])\n",
    "    y=str(int(year))\n",
    "    print(\"----------\"+y+\"----------\")\n",
    "    for month in month_list:\n",
    "        # 获取月份的所有数据\n",
    "        month_data=year_data[year_data[:,1]==month]\n",
    "           # 计算当前月份PM的均值\n",
    "        mean_vals=np.mean(month_data[:,5:],axis=0).tolist()\n",
    "        print(mean_vals)\n",
    "        "
   ]
  },
  {
   "cell_type": "code",
   "execution_count": null,
   "metadata": {},
   "outputs": [],
   "source": []
  }
 ],
 "metadata": {
  "kernelspec": {
   "display_name": "Python 3",
   "language": "python",
   "name": "python3"
  },
  "language_info": {
   "codemirror_mode": {
    "name": "ipython",
    "version": 3
   },
   "file_extension": ".py",
   "mimetype": "text/x-python",
   "name": "python",
   "nbconvert_exporter": "python",
   "pygments_lexer": "ipython3",
   "version": "3.7.6"
  },
  "toc": {
   "base_numbering": 1,
   "nav_menu": {},
   "number_sections": true,
   "sideBar": true,
   "skip_h1_title": false,
   "title_cell": "Table of Contents",
   "title_sidebar": "Contents",
   "toc_cell": false,
   "toc_position": {},
   "toc_section_display": true,
   "toc_window_display": false
  }
 },
 "nbformat": 4,
 "nbformat_minor": 2
}
